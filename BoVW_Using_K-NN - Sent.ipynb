{
 "cells": [
  {
   "cell_type": "markdown",
   "metadata": {},
   "source": [
    "### Importing Important Libraries and files"
   ]
  },
  {
   "cell_type": "code",
   "execution_count": 1,
   "metadata": {},
   "outputs": [],
   "source": [
    "import argparse\n",
    "import cv2\n",
    "import numpy as np \n",
    "import os\n",
    "from sklearn.cluster import KMeans\n",
    "from sklearn.svm import SVC\n",
    "from sklearn.preprocessing import StandardScaler\n",
    "from matplotlib import pyplot as plt\n",
    "from sklearn import svm, datasets\n",
    "from sklearn.model_selection import train_test_split\n",
    "from sklearn.metrics import confusion_matrix\n",
    "from sklearn.utils.multiclass import unique_labels\n",
    "from sklearn.metrics.pairwise import chi2_kernel\n",
    "from sklearn.model_selection import GridSearchCV\n",
    "from sklearn.metrics import accuracy_score\n",
    "from sklearn.neighbors import KNeighborsClassifier\n",
    "from sklearn.model_selection import cross_val_score\n",
    "import time"
   ]
  },
  {
   "cell_type": "markdown",
   "metadata": {},
   "source": [
    "### Reading dataset path from the file system"
   ]
  },
  {
   "cell_type": "code",
   "execution_count": 2,
   "metadata": {},
   "outputs": [],
   "source": [
    "paths=\"Dataset/\"\n",
    "def GetImages(train, path=paths):\n",
    "    images = []\n",
    "    count = 0\n",
    "    for folder in os.listdir(path):\n",
    "        for file in  os.listdir(os.path.join(path, folder)):\n",
    "            images.append(os.path.join(path, os.path.join(folder, file)))\n",
    "\n",
    "    if(train is True):\n",
    "        np.random.shuffle(images)\n",
    "    \n",
    "    return images"
   ]
  },
  {
   "cell_type": "markdown",
   "metadata": {},
   "source": [
    "### Reading images from the given path (i.e train and test images )"
   ]
  },
  {
   "cell_type": "code",
   "execution_count": 3,
   "metadata": {},
   "outputs": [],
   "source": [
    "def ImageReader(img_path):\n",
    "    img = cv2.imread(img_path, 0)\n",
    "    return cv2.resize(img,(150,150))"
   ]
  },
  {
   "cell_type": "markdown",
   "metadata": {},
   "source": [
    "### Extracting SIFT features from an image"
   ]
  },
  {
   "cell_type": "code",
   "execution_count": 4,
   "metadata": {},
   "outputs": [],
   "source": [
    "def SiftDescriptors(img):\n",
    "    sift = cv2.xfeatures2d.SIFT_create()\n",
    "    kp, descriptors = sift.detectAndCompute(img, None)\n",
    "    return descriptors"
   ]
  },
  {
   "cell_type": "markdown",
   "metadata": {},
   "source": [
    "### Stacking the discriptors in a row vector  "
   ]
  },
  {
   "cell_type": "code",
   "execution_count": 5,
   "metadata": {},
   "outputs": [],
   "source": [
    "def DescriptorVstacking(descriptor_list):\n",
    "    descriptors = np.array(descriptor_list[0])\n",
    "    for descriptor in descriptor_list[1:]:\n",
    "        descriptors = np.vstack((descriptors, descriptor)) \n",
    "    return descriptors"
   ]
  },
  {
   "cell_type": "markdown",
   "metadata": {},
   "source": [
    "### Clustering the given row vector discriptors using KMeans clustering (Disriptor quantization)"
   ]
  },
  {
   "cell_type": "code",
   "execution_count": 6,
   "metadata": {},
   "outputs": [],
   "source": [
    "def DescriptorsClustering(descriptors,no_clusters):\n",
    "    kmeans = KMeans(n_clusters = no_clusters).fit(descriptors)\n",
    "    return kmeans\n"
   ]
  },
  {
   "cell_type": "markdown",
   "metadata": {},
   "source": [
    "### Extracting features from the sicriptors list and clustering the features using number of clusters "
   ]
  },
  {
   "cell_type": "code",
   "execution_count": 7,
   "metadata": {},
   "outputs": [],
   "source": [
    "def FeatureExtracter(kmeans,descriptor_list, image_count, no_clusters):\n",
    "    im_features = np.array([np.zeros(no_clusters) for i in range(image_count)])\n",
    "    for i in range(image_count):\n",
    "        for j in range(len(descriptor_list[i])):\n",
    "            feature = descriptor_list[i][j]\n",
    "            feature = feature.reshape(1, 128)\n",
    "            idx = kmeans.predict(feature)\n",
    "            im_features[i][idx] += 1\n",
    "    return im_features"
   ]
  },
  {
   "cell_type": "markdown",
   "metadata": {},
   "source": [
    "### Ploting the Histogram of Bag of visual words from the features clusterd using tf-idf "
   ]
  },
  {
   "cell_type": "code",
   "execution_count": 8,
   "metadata": {},
   "outputs": [],
   "source": [
    "def plotHistogram(im_features, no_clusters):\n",
    "    x_scalar = np.arange(no_clusters)\n",
    "    y_scalar = np.array([abs(np.sum(im_features[:,h], dtype=np.int32)) for h in range(no_clusters)])\n",
    "    plt.bar(x_scalar, y_scalar)\n",
    "    plt.xlabel(\"Visual Word Index\")\n",
    "    plt.ylabel(\"Frequency\")\n",
    "    plt.title(\"Complete Visual Words Generated\")\n",
    "    plt.xticks(x_scalar + 0.4, x_scalar)\n",
    "    plt.show()"
   ]
  },
  {
   "cell_type": "markdown",
   "metadata": {},
   "source": [
    "### Ploting confuaion matrix of a classifier"
   ]
  },
  {
   "cell_type": "code",
   "execution_count": 9,
   "metadata": {},
   "outputs": [],
   "source": [
    "def PlotConfusionMatrix(true, predictions):\n",
    "    np.set_printoptions(precision=2)\n",
    "    classes = [\"brain\", \"butterfly\",\"car_side\",\"city\",\"dollar_bill\",\"flamingo\",\"headphone\",\"laptop\",\"wild_cat\",\"wrench\"]\n",
    "    title='Confusion matrix'\n",
    "    cmap=plt.cm.Blues\n",
    "    cm = confusion_matrix(true,predictions)\n",
    "    fig, ax = plt.subplots()\n",
    "    im = ax.imshow(cm, interpolation='nearest', cmap=cmap)\n",
    "    ax.figure.colorbar(im, ax=ax)\n",
    "    ax.set(xticks=np.arange(cm.shape[1]),\n",
    "           yticks=np.arange(cm.shape[0]),\n",
    "           xticklabels=classes, yticklabels=classes,\n",
    "           title=title,\n",
    "           ylabel='True label',\n",
    "           xlabel='Predicted label')\n",
    "    plt.setp(ax.get_xticklabels(), rotation=45, ha=\"right\",rotation_mode=\"anchor\")\n",
    "    fmt ='d' \n",
    "    thresh = cm.max() / 2.\n",
    "    for i in range(cm.shape[0]):\n",
    "        for j in range(cm.shape[1]):\n",
    "            ax.text(j, i, format(cm[i, j],fmt),\n",
    "                    ha=\"center\", va=\"center\",\n",
    "                    color=\"white\" if cm[i, j] > thresh else \"black\")\n",
    "    fig.tight_layout()    \n",
    "    plt.show()"
   ]
  },
  {
   "cell_type": "markdown",
   "metadata": {},
   "source": [
    "### The function used to calculate the accuracy of the classifier model"
   ]
  },
  {
   "cell_type": "code",
   "execution_count": 10,
   "metadata": {},
   "outputs": [],
   "source": [
    "def CoomputeAccuracy(actual, predicted):\n",
    "    correct_predict = 0\n",
    "    for i in range(len(actual)):\n",
    "        if actual[i] == predicted[i]:\n",
    "              correct_predict += 1\n",
    "    return correct_predict/float(len(actual)) * 100.0"
   ]
  },
  {
   "cell_type": "markdown",
   "metadata": {},
   "source": [
    "### Training the model using the trainnig images"
   ]
  },
  {
   "cell_type": "code",
   "execution_count": 11,
   "metadata": {},
   "outputs": [],
   "source": [
    "def ModelTrain(path, no_clusters):\n",
    "    training_images=path\n",
    "    images = GetImages(training_images, path)\n",
    "    print(\"Train images path detected.\")\n",
    "    descriptor_list = []\n",
    "    train_labels = np.array([])\n",
    "    label_count = 3\n",
    "    image_count = len(images)\n",
    "    for img_path in images:\n",
    "        if(\"brain\" in img_path):\n",
    "            class_index=0\n",
    "        elif(\"butterfly\" in img_path):\n",
    "            class_index=1\n",
    "        elif(\"car_side\" in img_path):\n",
    "            class_index=2\n",
    "        elif(\"city\" in img_path):\n",
    "            class_index=3\n",
    "        elif(\"dollar_bill\" in img_path):\n",
    "            class_index=4\n",
    "        elif(\"flamingo\" in img_path):\n",
    "            class_index=5\n",
    "        elif(\"headphone\" in img_path):\n",
    "            class_index=6\n",
    "        elif(\"laptop\" in img_path):\n",
    "            class_index=7\n",
    "        elif(\"wild_cat\" in img_path):\n",
    "            class_index=8\n",
    "        else:\n",
    "            class_index=9\n",
    "        train_labels = np.append(train_labels,class_index)\n",
    "        img = ImageReader(img_path)\n",
    "        des = SiftDescriptors(img)\n",
    "        descriptor_list.append(des)\n",
    "\n",
    "    descriptors = DescriptorVstacking(descriptor_list)\n",
    "    print(\"Descriptors vstacked.\")\n",
    "\n",
    "    kmeans = DescriptorsClustering(descriptors,no_clusters)\n",
    "    print(\"Descriptors clustered using K-means.\")\n",
    "\n",
    "    im_features = FeatureExtracter(kmeans,descriptor_list,image_count, no_clusters)\n",
    "    print(\"Images features extracted using SIFT.\")\n",
    "\n",
    "    scale = StandardScaler().fit(im_features)        \n",
    "    im_features = scale.transform(im_features)\n",
    "    print(\"Features Histogram for the given clusters.\")\n",
    "    plotHistogram(im_features, no_clusters)\n",
    "    \n",
    "    return kmeans, scale, im_features,train_labels"
   ]
  },
  {
   "cell_type": "markdown",
   "metadata": {},
   "source": [
    "### Testing the model and predict its claddification and calculating the acuracy "
   ]
  },
  {
   "cell_type": "code",
   "execution_count": 12,
   "metadata": {},
   "outputs": [],
   "source": [
    "def ModelTest(path, kmeans,scale, knn, im_features, no_clusters):\n",
    "    test_images = GetImages(False, path)\n",
    "    print(\"Test images path detected.\")\n",
    "    count = 0\n",
    "    true = []\n",
    "    descriptor_list = []\n",
    "    for img_path in test_images:\n",
    "        img = ImageReader(img_path)\n",
    "        des = SiftDescriptors(img)\n",
    "        if(des is not None):\n",
    "            count += 1\n",
    "            descriptor_list.append(des)\n",
    "            if(\"brain\" in img_path):\n",
    "                true.append(0)\n",
    "            elif(\"butterfly\" in img_path):\n",
    "                true.append(1)\n",
    "            elif(\"car_side\" in img_path):\n",
    "                true.append(2)\n",
    "            elif(\"city\" in img_path):\n",
    "                true.append(3)\n",
    "            elif(\"dollar_bill\" in img_path):\n",
    "                true.append(4)\n",
    "            elif(\"flamingo\" in img_path):\n",
    "                true.append(5)\n",
    "            elif(\"headphone\" in img_path):\n",
    "                true.append(6)\n",
    "            elif(\"laptop\" in img_path):\n",
    "                true.append(7)\n",
    "            elif(\"wild_cat\" in img_path):\n",
    "                true.append(8)\n",
    "            else:\n",
    "                true.append(9)\n",
    "\n",
    "    descriptors = DescriptorVstacking(descriptor_list)\n",
    "    test_features = FeatureExtracter(kmeans, descriptor_list, count, no_clusters)\n",
    "    test_features = scale.transform(test_features)\n",
    "#     print(len(test_features))\n",
    "    kernel_test = test_features\n",
    "    knn.predict(test_features)\n",
    "    predictions = knn.predict(test_features)\n",
    "    PlotConfusionMatrix(true, predictions)\n",
    "#     print(\"Confusion matrixes plotted.\")\n",
    "    print ('Accuracy score: %0.3f' % CoomputeAccuracy(true, predictions))"
   ]
  },
  {
   "cell_type": "markdown",
   "metadata": {},
   "source": [
    "# Testing the classifier model using the trainig images"
   ]
  },
  {
   "cell_type": "code",
   "execution_count": 13,
   "metadata": {},
   "outputs": [
    {
     "name": "stdout",
     "output_type": "stream",
     "text": [
      "\n",
      "Training the K-NN Model using k-fold cross validation to find optimal k value....\n",
      "Train images path detected.\n",
      "Descriptors vstacked.\n",
      "Descriptors clustered using K-means.\n",
      "Images features extracted using SIFT.\n",
      "Features Histogram for the given clusters.\n"
     ]
    },
    {
     "data": {
      "image/png": "[encoded data removed]",
      "text/plain": [
       "<Figure size 432x288 with 1 Axes>"
      ]
     },
     "metadata": {
      "needs_background": "light"
     },
     "output_type": "display_data"
    },
    {
     "name": "stdout",
     "output_type": "stream",
     "text": [
      "Accuracy for fold 1 [0.58139535 0.48062016 0.41860465 0.5703125  0.4921875 ]\n",
      "Accuracy for fold 2 [0.54263566 0.48837209 0.44186047 0.53125    0.4453125 ]\n",
      "Accuracy for fold 3 [0.56589147 0.54263566 0.48837209 0.578125   0.5390625 ]\n",
      "Accuracy for fold 4 [0.62015504 0.53488372 0.46511628 0.5703125  0.5390625 ]\n",
      "Accuracy for fold 5 [0.58914729 0.52713178 0.49612403 0.578125   0.5546875 ]\n",
      "Accuracy for fold 6 [0.59689922 0.54263566 0.48837209 0.5703125  0.546875  ]\n",
      "Accuracy for fold 7 [0.59689922 0.53488372 0.48837209 0.609375   0.5       ]\n",
      "Accuracy for fold 8 [0.58914729 0.54263566 0.48062016 0.59375    0.5234375 ]\n",
      "Accuracy for fold 9 [0.64341085 0.51162791 0.49612403 0.5859375  0.5       ]\n",
      "Accuracy for fold 10 [0.63565891 0.48837209 0.51937984 0.5546875  0.5234375 ]\n",
      "Accuracy for fold 11 [0.60465116 0.49612403 0.46511628 0.5546875  0.53125   ]\n",
      "Accuracy for fold 12 [0.58914729 0.50387597 0.47286822 0.546875   0.5546875 ]\n",
      "Accuracy for fold 13 [0.58914729 0.52713178 0.48062016 0.53125    0.546875  ]\n",
      "Accuracy for fold 14 [0.58139535 0.52713178 0.48837209 0.515625   0.5390625 ]\n",
      "Accuracy for fold 15 [0.5503876  0.54263566 0.48062016 0.5234375  0.5234375 ]\n",
      "Accuracy for fold 16 [0.57364341 0.56589147 0.48837209 0.5234375  0.53125   ]\n",
      "Accuracy for fold 17 [0.55813953 0.54263566 0.47286822 0.53125    0.53125   ]\n",
      "Accuracy for fold 18 [0.57364341 0.53488372 0.46511628 0.53125    0.515625  ]\n",
      "Accuracy for fold 19 [0.56589147 0.53488372 0.46511628 0.546875   0.5234375 ]\n",
      "Accuracy for fold 20 [0.56589147 0.53488372 0.47286822 0.5        0.5234375 ]\n",
      "\n",
      "Mean Accuracy for each fold : [0.5086240310077519, 0.4898861434108527, 0.5428173449612403, 0.545906007751938, 0.5490431201550388, 0.5490188953488372, 0.545906007751938, 0.5459181201550388, 0.547420058139535, 0.5443071705426357, 0.5303657945736434, 0.5334907945736435, 0.5350048449612403, 0.5303173449612404, 0.5241036821705427, 0.5365188953488372, 0.5272286821705426, 0.5241036821705427, 0.5272407945736435, 0.5194161821705426]\n",
      "\n",
      "Maximum accuracy gained in trainig using k-fold is:54.904\n",
      "\n",
      "Minimum Error gained in trainig using k-fold is:0.451\n",
      "\n",
      "The optimal number of neighbors (Value of K) is 5\n"
     ]
    },
    {
     "data": {
      "image/png": "[encoded data removed]",
      "text/plain": [
       "<Figure size 432x288 with 1 Axes>"
      ]
     },
     "metadata": {
      "needs_background": "light"
     },
     "output_type": "display_data"
    },
    {
     "name": "stdout",
     "output_type": "stream",
     "text": [
      "Training the K-NN Model using optimal k value....\n",
      "Testing the K-NN Model Remaining 20% Test Data....\n",
      "Test images path detected.\n"
     ]
    },
    {
     "data": {
      "image/png": "[encoded data removed]",
      "text/plain": [
       "<Figure size 432x288 with 2 Axes>"
      ]
     },
     "metadata": {
      "needs_background": "light"
     },
     "output_type": "display_data"
    },
    {
     "name": "stdout",
     "output_type": "stream",
     "text": [
      "Accuracy score: 65.000\n",
      "Total Time taken in Min: 4.765\n"
     ]
    }
   ],
   "source": [
    "if __name__ == '__main__':\n",
    "    T_Start=time.time()\n",
    "    print(\"\\nTraining the K-NN Model using k-fold cross validation to find optimal k value....\")\n",
    "    train_path=\"Dataset/Train/\"\n",
    "    test_path=\"Dataset/Test/\"\n",
    "    \n",
    "    no_clusters=50\n",
    "    kmeans,scale,image_features,train_labels = ModelTrain(train_path, no_clusters)\n",
    "    #number of neighbors to be tested to find the optimal one\n",
    "    neighbors = list(range(1,21))\n",
    "    # empty list that will hold cv scores\n",
    "    cross_validation_scores = []\n",
    "    # perform 4-fold cross validation\n",
    "    for k in neighbors:\n",
    "        knn_model = KNeighborsClassifier(n_neighbors=k)\n",
    "        scores = cross_val_score(knn_model, image_features, train_labels, cv=5)\n",
    "        cross_validation_scores.append(scores.mean())\n",
    "        print(\"Accuracy for fold {}\".format(k),scores)\n",
    "    print(\"\\nMean Accuracy for each fold :\",cross_validation_scores)\n",
    "    print(\"\\nMaximum accuracy gained in trainig using k-fold is:%.3f\"%(max(cross_validation_scores)*100))\n",
    "    print(\"\\nMinimum Error gained in trainig using k-fold is:%.3f\"%(1-(max(cross_validation_scores))))\n",
    "    \n",
    "     # changing to misclassification error\n",
    "    misclassification_error = [1-x for x in cross_validation_scores]\n",
    "    # determining best k\n",
    "    optimal_k = neighbors[misclassification_error.index(min(misclassification_error))]\n",
    "    print(\"\\nThe optimal number of neighbors (Value of K) is {}\".format(optimal_k))\n",
    "    # plot misclassification error vs k\n",
    "    plt.plot(neighbors, misclassification_error)\n",
    "    plt.xlabel(\"Number of Neighbors K\")\n",
    "    plt.ylabel(\"Misclassification Error\")\n",
    "    plt.show()   \n",
    "    \n",
    "    print(\"Training the K-NN Model using optimal k value....\")\n",
    "    knn_model = KNeighborsClassifier(n_neighbors=optimal_k)\n",
    "    knn_model.fit(image_features,train_labels)\n",
    "    \n",
    "    print(\"Testing the K-NN Model Remaining 20% Test Data....\")\n",
    "    ModelTest(test_path, kmeans,scale,knn_model,image_features,no_clusters)\n",
    "    T_Stop=time.time()\n",
    "    print(\"Total Time taken in Min: %.3f\" %((T_Stop-T_Start)/60.0))"
   ]
  },
  {
   "cell_type": "code",
   "execution_count": null,
   "metadata": {},
   "outputs": [],
   "source": []
  },
  {
   "cell_type": "code",
   "execution_count": null,
   "metadata": {},
   "outputs": [],
   "source": []
  }
 ],
 "metadata": {
  "kernelspec": {
   "display_name": "Python 3",
   "language": "python",
   "name": "python3"
  },
  "language_info": {
   "codemirror_mode": {
    "name": "ipython",
    "version": 3
   },
   "file_extension": ".py",
   "mimetype": "text/x-python",
   "name": "python",
   "nbconvert_exporter": "python",
   "pygments_lexer": "ipython3",
   "version": "3.7.4"
  }
 },
 "nbformat": 4,
 "nbformat_minor": 2
}
